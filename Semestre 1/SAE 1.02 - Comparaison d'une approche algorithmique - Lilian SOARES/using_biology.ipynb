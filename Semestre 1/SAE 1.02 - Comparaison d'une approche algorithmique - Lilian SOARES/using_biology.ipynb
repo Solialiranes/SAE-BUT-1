{
 "cells": [
  {
   "cell_type": "markdown",
   "id": "a023b3ed",
   "metadata": {},
   "source": [
    "# Notebook de présentation de la SAE S01.02"
   ]
  },
  {
   "cell_type": "markdown",
   "id": "47840237",
   "metadata": {},
   "source": [
    "## Binôme \n",
    "\n",
    "* Lilian SOARES\n"
   ]
  },
  {
   "cell_type": "markdown",
   "id": "c0020177",
   "metadata": {},
   "source": [
    "## SAÉ S1.02 : ARN et protéïnes\n",
    "\n",
    "Ce document correspond au sujet de la SAÉ S1.02 de l'année universitaire 2021/2022. Ce travail est à faire par binôme en autonomie.\n",
    "La SAÉ est découpée en deux parties. \n",
    "**La première partie devra être rendue avant le 5 décembre et la deuxième partie avant le 16 janvier.**\n",
    "\n",
    "\n",
    "\n",
    "**Attention :** L'évaluation de cette SAÉ se fera notamment durant les contrôles de R101. L'évaluation de la partie 1 de la SAÉ se fera en partie lors du troisième contrôle de  la ressource R101 (prévu le 8 décembre 2021). L'évaluation de la partie 2 se fera en partie lors du dernier contrôle de R101 (prévu le 21 janvier 2022). Pour les contrôles, il faut connaître le sujet et le code (les structures de données utilisées et les diffférentes fonctions)."
   ]
  },
  {
   "cell_type": "markdown",
   "id": "50af1a4c",
   "metadata": {},
   "source": [
    "# Sujet\n",
    "\n",
    "## Partie 1\n",
    "\n",
    "Les exercices s'appuient sur la notion d'[ADN](https://fr.wikipedia.org/wiki/Acide_d%C3%A9soxyribonucl%C3%A9ique)/[ARN](https://fr.wikipedia.org/wiki/Acide_ribonucl%C3%A9ique). On supposera dans l'ensemble des exercices que l'ADN est codé sous la forme d'une chaîne de caractères contenant uniquement les lettres majuscules `A`, `T`, `G`, `C` correspondant aux différentes bases (adénine, cytosine, guanine ou thymine).\n",
    "L'ARN sera codé sous la forme d'une chaîne de caractères contenant uniquement les lettres majuscules `A`, `U`, `G`, `C`.\n"
   ]
  },
  {
   "cell_type": "markdown",
   "id": "0b576057",
   "metadata": {},
   "source": [
    "#### Question 1\n",
    "\n",
    "Définir la fonction `est_base` prenant en paramètre un caractère et retournant `True` si ce caractère correspond à une base de l'ADN (est un des caractères `A`, `T`, `G`, `C`), et `False` sinon. \n",
    "\n",
    "À titre d'exemple, l'appel de la fonction `est_base` avec la valeur `\"A\"` doit retourner `True` alors que l'appel avec la valeur `\"z\"` doit retourner `False`."
   ]
  },
  {
   "cell_type": "code",
   "execution_count": 1,
   "id": "517c1530",
   "metadata": {},
   "outputs": [
    {
     "data": {
      "text/plain": [
       "True"
      ]
     },
     "execution_count": 1,
     "metadata": {},
     "output_type": "execute_result"
    }
   ],
   "source": [
    "def est_base(c):\n",
    "    if c == 'A' or c == 'T' or c == 'G' or c == 'C':\n",
    "        return True\n",
    "    else:\n",
    "        return False\n",
    "est_base(\"A\")"
   ]
  },
  {
   "cell_type": "markdown",
   "id": "266dbe6e",
   "metadata": {},
   "source": [
    "#### Question 2\n",
    "\n",
    "Définir la fonction `est_adn` prenant en paramètre une chaîne de caractères et retournant `True` si la chaîne correspond à un ADN (est constituée uniquement des caractères `A`, `T`, `G`, `C`), et `False` sinon.\n",
    "\n",
    "À titre d'exemple, l'appel de la fonction `est_adn` avec la valeur `\"ATGTCAAA\"` doit retourner `True` alors que l'appel avec la valeur `\"ATBOAATG\"` doit retourner `False`."
   ]
  },
  {
   "cell_type": "code",
   "execution_count": 2,
   "id": "d6094c1b",
   "metadata": {},
   "outputs": [
    {
     "data": {
      "text/plain": [
       "True"
      ]
     },
     "execution_count": 2,
     "metadata": {},
     "output_type": "execute_result"
    }
   ],
   "source": [
    "def est_adn(s):\n",
    "    i = 0\n",
    "    while i < len(s) :\n",
    "        c = s[i]\n",
    "        if est_base(c) == True:\n",
    "            i = i + 1\n",
    "        elif est_base(c) == False:\n",
    "            return False\n",
    "        \n",
    "    return True\n",
    "\n",
    "est_adn(\"ATGC\")"
   ]
  },
  {
   "cell_type": "markdown",
   "id": "71a70b62",
   "metadata": {},
   "source": [
    "#### Question 3\n",
    "\n",
    "L'ARN est construit à partir de l'ADN en remplaçant la thymine `T` par l'uracile codé par la lettre `U`. Ainsi la transcription de la séquence ADN `ATTGCA` en ARN donne `AUUGCA`.\n",
    "\n",
    "Définir la fonction `arn` prenant en paramètre une séquence d'ADN et retournant la séquence ARN associée.\n",
    "\n",
    "À titre d'exemple, l'appel de la fonction `arn` avec la valeur `\"ATGTCAAA\"` doit retourner `\"AUGUCAAA\"`.\n",
    "\n",
    "**Attention :** si la chaîne passée en paramètre ne correspond pas à de l'ADN, la fonction `arn` doit retourner la valeur `None`."
   ]
  },
  {
   "cell_type": "code",
   "execution_count": 3,
   "id": "14f5c0a5",
   "metadata": {},
   "outputs": [
    {
     "data": {
      "text/plain": [
       "'AUGUAAA'"
      ]
     },
     "execution_count": 3,
     "metadata": {},
     "output_type": "execute_result"
    }
   ],
   "source": [
    "def arn(adn):\n",
    "    s = adn\n",
    "    if est_adn(s) == False :\n",
    "        print(\"Le séquencage ADN n'est pas bon\")\n",
    "        return None\n",
    "    \n",
    "    i = 0\n",
    "    arn = \"\"\n",
    "    while i < len(adn):\n",
    "        if adn[i] == \"T\":\n",
    "            arn = arn + \"U\"\n",
    "        else :\n",
    "            arn = arn + adn [i]\n",
    "        i = i + 1\n",
    "    return arn\n",
    "\n",
    "arn(\"ATGTAAA\")"
   ]
  },
  {
   "cell_type": "markdown",
   "id": "1e198044",
   "metadata": {},
   "source": [
    "#### Question 4\n",
    "\n",
    "Un codon est une séquence de trois bases sur un ARN (messager) spécifiant l'un des 22 acides aminés protéinogènes dont la succession sur l'ARN détermine la structure primaire de la protéine à synthétiser *(définition issue de Wikipedia)*.\n",
    "\n",
    "Définir la fonction `arn_to_codons` prenant en paramètre une chaîne de caractères correspondant à de l'ARN et découpant cet ARN en codons. La fonction doit retourner un tableau contenant la liste des codons.\n",
    "Par exemple, l'appel de la fonction `arn_to_codons` avec l'ARN `\"CGUUAGGGG\"` doit retourner le tableau `[\"CGU\", \"UAG\", \"GGG\"]`.\n",
    "\n",
    "**Remarque :** Si le nombre de nucléotides dans l'ARN n'est pas un multiple de 3, les derniers sont ignorés. Par exemple, les ARN `\"CGUAAU\"` et `\"CGUAAUGC\"` donnent tous les deux la séquence de codons `[\"CGU\", \"AAU\"]`."
   ]
  },
  {
   "cell_type": "code",
   "execution_count": 4,
   "id": "ce750489",
   "metadata": {},
   "outputs": [
    {
     "data": {
      "text/plain": [
       "['CGU', 'UAG', 'GGG']"
      ]
     },
     "execution_count": 4,
     "metadata": {},
     "output_type": "execute_result"
    }
   ],
   "source": [
    "def arn_to_codons(arn):\n",
    "    i = 0\n",
    "    codons = []\n",
    "    mp_3 = len(arn) - len(arn)%3\n",
    "    \n",
    "    while i < mp_3 :\n",
    "        codons.append(arn[i] + arn[i+1] + arn[i+2])\n",
    "        i = i + 3\n",
    "    return codons\n",
    "\n",
    "arn_to_codons(\"CGUUAGGGG\")"
   ]
  },
  {
   "cell_type": "markdown",
   "id": "0ff72b75",
   "metadata": {},
   "source": [
    "#### Question 5\n",
    "\n",
    "Chaque codon correspond à un acide aminé.\n",
    "Par exemple, le codon `UUU` correspond à l'acide aminé Phenylalanine. Plusieurs codons correspondent à un même acide aminé. \n",
    "Certains codons, correspondant à la fin du séquençage des acides aminés, sont appelés *codons stop*. C'est le cas du codon `UAA` par exemple.\n",
    "\n",
    "Le fichier `data/codons_aa.json` contient la correspondance entre codons et acides aminés au format JSON. Les codons qui ne sont pas dans le fichier sont les codons stop.\n",
    "\n",
    "\n",
    "* Définir la fonction `load_dico_codons_aa` qui prend en paramètre un fichier au format JSON et retourne la structure de données chargée en mémoire à partir du JSON.\n",
    "\n",
    "\n",
    "* Définir la fonction `codons_stop` prenant en paramètre un dictionnaire dont les clés sont les codons et les valeurs les acides aminés correspondants (chaînes de caractères). La fonction retournera un tableau contenant l'ensemble des codons stop, c'est-à-dire l'ensemble des codons possibles avec les caractères `AUGC` qui ne sont pas des clés du dictionnaire.\n",
    "\n",
    "\n",
    "**Remarque :** Créer une variable initialisée avec les données contenues dans un fichier au format JSON se fait très facilement en python. Pour plus d'information, relire la fin du [cours 9 du module M1102](https://github.com/iutVilletaneuseDptInfo/M1102/blob/master/09_Dictionnnaires/cours9.ipynb)."
   ]
  },
  {
   "cell_type": "code",
   "execution_count": 5,
   "id": "f25d8c8b",
   "metadata": {
    "scrolled": false
   },
   "outputs": [
    {
     "data": {
      "text/plain": [
       "['AGA', 'AGG', 'UAA', 'UAG']"
      ]
     },
     "execution_count": 5,
     "metadata": {},
     "output_type": "execute_result"
    }
   ],
   "source": [
    "from json import *\n",
    "import random\n",
    "\n",
    "def load_dico_codons_aa(filename):\n",
    "    fichier = open(filename,\"r\")\n",
    "    codons_json = fichier.read()\n",
    "    dico_adn = loads(codons_json)\n",
    "    fichier.close()\n",
    "    return dico_adn\n",
    "       \n",
    "def codons_stop(dico):\n",
    "    stop = []\n",
    "    bases = \"AUGC\"\n",
    "    i = 0\n",
    "    while i < 4:\n",
    "        j = 0\n",
    "        while j < 4:\n",
    "            k = 0\n",
    "            while k < 4:\n",
    "                if bases[i] + bases[j] + bases[k] not in dico:\n",
    "                    stop.append(bases[i] + bases[j] + bases[k])\n",
    "                k += 1\n",
    "            j += 1\n",
    "        i += 1\n",
    "    return stop\n",
    "    \n",
    "codons_stop(load_dico_codons_aa('data/codons_aa.json'))"
   ]
  },
  {
   "cell_type": "markdown",
   "id": "b34ae609",
   "metadata": {},
   "source": [
    "#### Question 6\n",
    "\n",
    "Définir la fonction `codons_to_aa` prenant en paramètre un tableau de codons (correspondant par exemple à une valeur retournée par la fonction `arn_to_codons`) et le dictionnaire de correspondance entre codons et acides aminés. La fonction devra retourner un tableau contenant les acides aminés correspondant aux codons.\n",
    "\n",
    "**Attention :** Si l'un des codons est un codon stop, alors la synthèse (traduction des codons en acides aminés) s'arrête. Par exemple, si le tableau de codons passé en paramètre est `[\"CGU\", \"AAU\", \"UAA\", \"GGG\", \"CGU\"]`, alors le tableau retourné doit être `[\"Arginine\", \"Asparagine\"]` car le codon `CGU` correspond à l'Arginine, le codon `AAU` correspond à l'asparagine et `UAA` est un codon stop."
   ]
  },
  {
   "cell_type": "code",
   "execution_count": 6,
   "id": "d7e7ddca",
   "metadata": {},
   "outputs": [
    {
     "data": {
      "text/plain": [
       "['Arginine', 'Asparagine']"
      ]
     },
     "execution_count": 6,
     "metadata": {},
     "output_type": "execute_result"
    }
   ],
   "source": [
    "def codons_to_aa(codons, dico):\n",
    "    i = 0\n",
    "    j = 0\n",
    "    triplés = []\n",
    "    acides = []\n",
    "    \n",
    "    while i < len(codons):\n",
    "        if codons[i] not in dico :\n",
    "            i = len(codons)\n",
    "        else :\n",
    "            triplés.append(codons[i])\n",
    "        i = i + 1      \n",
    "    \n",
    "    clés = list(dico)\n",
    "    i = 0\n",
    "    while i < len(triplés):\n",
    "        while j < len(clés):        \n",
    "            if triplés[i] == clés[j]:\n",
    "                acides.append(list(dico.values())[j])\n",
    "                j = len(clés)\n",
    "            else :   \n",
    "                j = j + 1\n",
    "                \n",
    "        i = i + 1\n",
    "        j = 0\n",
    "        \n",
    "    return acides\n",
    "        \n",
    "codons_to_aa([\"CGU\", \"AAU\", \"UAA\", \"GGG\", \"CGU\"], load_dico_codons_aa('data/codons_aa.json'))"
   ]
  },
  {
   "cell_type": "markdown",
   "id": "82e63a82",
   "metadata": {},
   "source": [
    "## Partie 2\n",
    "\n",
    "Le séquençage des acides aminés ne commence que lorsque le *codon start* est rencontré. Ce codon est le codon `AUG`. On appelle séquence codante l'ensemble des codons compris entre le codon start et un codon stop. Dans une séquence codante, le codon `AUG` correspond à l'acide aminé *Methionine*. Une séquence de codons peut contenir zéro, une ou plusieurs séquences codantes. Par exemple, la séquence `\"CGU\", \"UUU\", \"AUG\", \"CGU\", \"AUG\", \"AAU\", \"UAA\", \"AUG\", \"GGG\", \"CCC\",  \"CGU\", \"UAG\", \"GGG\"` contient deux séquences codantes : `\"CGU\", \"AUG\"` et `\"GGG\", \"CCC\", \"CGU\"` puisque `\"AAU\"` et `\"UAG\"` sont des codons stop.\n",
    "\n",
    "**Remarque :** Une séquence codante est délimitée par le codon start et un codon stop. Si la séquence de codons ne contient aucun codon stop, alors il n'y a pas de séquence codante."
   ]
  },
  {
   "cell_type": "markdown",
   "id": "5526c3a4",
   "metadata": {},
   "source": [
    "#### Question 1\n",
    "\n",
    "Définir la fonction `nextIndice` prenant en paramètre un tableau `tab`, un indice `ind` de `tab`, et un deuxième tableau `elements`. La fonction recherche dans le tableau `tab` à partir de l'indice `ind` et retourne l'indice de la première case du tableau `tab` contenant une valeur de `elements`.\n",
    "\n",
    "Par exemple, l'appel de la fonction `nextIndice` avec le tableau `tab` égal à `[\"bonjour\", \"hello\", \"buongiorno\", \"ciao\", \"bye\"]`, et le tableau `elements` égal à `[\"hello\", \"bye\"]` doit retourner 1 si `ind` est inférieur ou égal à 1 lors de l'appel, et 4 sinon.\n",
    "\n",
    "**Remarque :** si aucune valeur de `elements` n'apparaît dans `tab` à partir de l'indice `ind`, la fonction doit renvoyer la valeur `len(tab)`."
   ]
  },
  {
   "cell_type": "code",
   "execution_count": 7,
   "id": "ab95a942",
   "metadata": {
    "scrolled": false
   },
   "outputs": [
    {
     "data": {
      "text/plain": [
       "4"
      ]
     },
     "execution_count": 7,
     "metadata": {},
     "output_type": "execute_result"
    }
   ],
   "source": [
    "def nextIndice(tab, ind, elements) :\n",
    "    while ind<len(tab) :\n",
    "        i = 0\n",
    "        \n",
    "        while i < len(elements) :\n",
    "            if tab[ind] == elements[i] :\n",
    "                return ind\n",
    "            i = i + 1\n",
    "        ind = ind + 1\n",
    "        \n",
    "    return ind\n",
    "\n",
    "nextIndice([\"bonjour\", \"coucou\", \"bye\", \"ciao\", \"hello\"], 3, [\"hello\", \"bye\"])"
   ]
  },
  {
   "cell_type": "markdown",
   "id": "52c42751",
   "metadata": {},
   "source": [
    "#### Question 2\n",
    "\n",
    "Définir la fonction `decoupe_sequence` prenant en paramètre trois tableaux `seq`, `start` et `stop`. La fonction doit découper le tableau `seq` en séquences et retourner un tableau contenant les différents morceaux. Un morceau dans le tableau `seq` est une partie non vide de `seq` comprise entre une valeur de `start` et une valeur de `stop`.\n",
    "\n",
    "L'appel de la fonction `decoupe_sequence` avec les tableaux \n",
    "```python\n",
    "seq = [\"val1\", \"début\", \"val2\", \"val3\", \"end\", \"val4\", \"fin\", \"begin\", \"val5\", \"fin\", \"val6\"]\n",
    "start = [\"début\", \"begin\"]\n",
    "stop = [\"fin\", \"end\"]\n",
    "```\n",
    "doit retourner\n",
    "```python\n",
    "[\n",
    "    [\"val2\", \"val3\"],\n",
    "    [\"val5\"]\n",
    "]\n",
    "```"
   ]
  },
  {
   "cell_type": "code",
   "execution_count": 8,
   "id": "073003ab",
   "metadata": {},
   "outputs": [
    {
     "data": {
      "text/plain": [
       "[['val2', 'val3'], ['val5']]"
      ]
     },
     "execution_count": 8,
     "metadata": {},
     "output_type": "execute_result"
    }
   ],
   "source": [
    "def decoupe_sequence(seq, start, stop):\n",
    "    i = 0\n",
    "    k = 0\n",
    "    z = 0\n",
    "    compteur = 0\n",
    "    for g in range(len(seq)):\n",
    "        if seq[g] in start:\n",
    "            compteur = compteur + 1\n",
    "          \n",
    "    liste = [[]for j in range(compteur)] \n",
    "    while i < len(start)+1 :\n",
    "        a = nextIndice(seq, k, start)\n",
    "        b = nextIndice(seq, k, stop)\n",
    "        if a > b :\n",
    "            k = a\n",
    "            b = nextIndice(seq, k, stop)\n",
    "        k = a + 1\n",
    "        \n",
    "        while k < b :\n",
    "            liste[z].append(seq[k])\n",
    "            k = k + 1\n",
    "        z = z + 1    \n",
    "        k = b    \n",
    "        i = i + 1    \n",
    "        \n",
    "    i = 0\n",
    "    while i < len(liste):\n",
    "        if liste[i] == []:\n",
    "            liste.pop(i)\n",
    "        else : \n",
    "            i = i + 1\n",
    "            \n",
    "    return liste\n",
    "    \n",
    "    \n",
    "decoupe_sequence([\"val1\", \"début\", \"val2\", \"val3\", \"end\", \"val4\", \"fin\", \"begin\", \"val5\", \"fin\", \"val6\"], [\"début\", \"begin\"], [\"fin\", \"end\"])"
   ]
  },
  {
   "cell_type": "markdown",
   "id": "327fde7c",
   "metadata": {},
   "source": [
    "#### Question 3\n",
    "\n",
    "Définir la fonction `codons_to_seq_codantes` qui prend en paramètre une séquence de codons et le dictionnaire de correspondance entre codons et acides aminés, et découpe la séquence de codons en séquences codantes. Les différentes séquences sont stockées dans un tableau. L'apel de la fonction `codons_to_seq` avec la séquence  `[\"CGU\", \"UUU\", \"AUG\", \"CGU\", \"AUG\", \"AAU\", \"UAA\", \"AUG\", \"GGG\", \"CCC\",  \"CGU\", \"UAG\", \"GGG\"]` doit retourner le tableau :\n",
    "```python\n",
    "[\n",
    "    [\"CGU\", \"AUG\", \"AAU\"],\n",
    "    [\"GGG\", \"CCC\", \"CGU\"]\n",
    "]\n",
    "```\n",
    "\n",
    "**Remarque :** la fonction ne doit pas retourner de séquence codante vide."
   ]
  },
  {
   "cell_type": "code",
   "execution_count": 9,
   "id": "d4942075",
   "metadata": {},
   "outputs": [
    {
     "data": {
      "text/plain": [
       "[['CGU', 'AUG', 'AAU'], ['GGG', 'CCC', 'CGU']]"
      ]
     },
     "execution_count": 9,
     "metadata": {},
     "output_type": "execute_result"
    }
   ],
   "source": [
    "def codons_to_seq_codantes(seq, dico) :\n",
    "    stop = codons_stop(dico)\n",
    "    seq_codantes = decoupe_sequence(seq, [\"AUG\"], stop)\n",
    "    return seq_codantes\n",
    "\n",
    "codons_to_seq_codantes([\"CGU\", \"UUU\", \"AUG\", \"CGU\", \"AUG\", \"AAU\", \"UAA\", \"AUG\", \"GGG\", \"CCC\", \"CGU\", \"UAG\", \"GGG\"], load_dico_codons_aa(\"data/codons_aa.json\"))"
   ]
  },
  {
   "cell_type": "markdown",
   "id": "61e9eeb1",
   "metadata": {},
   "source": [
    "#### Question 4\n",
    "\n",
    "\n",
    "Définir la fonction `seq_codantes_to_seq_aas` prenant en paramètre un tableau de séquences codantes (même type que les valeurs retournées par la fonction précédente)  et le dictionnaire de correspondance entre codons et acides aminés, et retournant un tableau contenant les différentes séquences d'acides aminés codées par les différentes séquences codantes. L'appel de la fonction `seq_codantes_to_seq_aas` avec le tableau retourné dans l'exemple de la fonction `codons_to_seq` doit retourner le tableau :\n",
    "\n",
    "```python\n",
    "[\n",
    "    [\"Arginine\", \"Methionine\", \"Asparagine\"],\n",
    "    [\"Glycine\", \"Proline\", \"Arginine\"]\n",
    "]\n",
    "```"
   ]
  },
  {
   "cell_type": "code",
   "execution_count": 10,
   "id": "6f3bbf62",
   "metadata": {},
   "outputs": [
    {
     "data": {
      "text/plain": [
       "[['Arginine', 'Methionine', 'Asparagine'], ['Glycine', 'Proline', 'Arginine']]"
      ]
     },
     "execution_count": 10,
     "metadata": {},
     "output_type": "execute_result"
    }
   ],
   "source": [
    "def seq_codantes_to_seq_aas(seq_codantes, dico):\n",
    "    i = 0\n",
    "    j = 0\n",
    "    k = 0\n",
    "    clés = list(dico)\n",
    "    tab = [[]for g in range(len(seq_codantes))]\n",
    "    \n",
    "    while i < len(seq_codantes):\n",
    "        while j < len(seq_codantes[i]):\n",
    "            while k < len(dico):\n",
    "                if seq_codantes[i][j] == clés[k]:\n",
    "                    tab[i].append(list(dico.values())[k])\n",
    "                k = k + 1\n",
    "                \n",
    "            j = j + 1\n",
    "            k = 0\n",
    "            \n",
    "        i = i + 1\n",
    "        j = 0\n",
    "        \n",
    "    return tab\n",
    "\n",
    "seq_codantes_to_seq_aas(codons_to_seq_codantes([\"CGU\", \"UUU\", \"AUG\", \"CGU\", \"AUG\", \"AAU\", \"UAA\", \"AUG\", \"GGG\", \"CCC\", \"CGU\", \"UAG\", \"GGG\"], load_dico_codons_aa(\"data/codons_aa.json\")), load_dico_codons_aa(\"data/codons_aa.json\"))"
   ]
  },
  {
   "cell_type": "markdown",
   "id": "7a9eeb78",
   "metadata": {},
   "source": [
    "#### Question 5\n",
    "\n",
    "Définir la fonction `adn_encode_molecule` prenant en parmètre un brin d'ADN, le dictionnaire de correspondance entre codons et acides aminés et une molécule (séquence d'acide aminées). La fonction doit retourner `True` si l'ARN obtenu à partir de l'ADN puis découpé en codons contient une séquence codante correspondant à la molécule, c'est-à-dire si la séquence d'acide aminée correspondant à une séquence codante est la même que la molécule.\n",
    "Par exemple, l'appel de la fonction `adn_encode_molecule` avec l'ADN `\"CGTTTTATGCGTATGAATTAAATGGGGCCCCGTTAGGGG\"` et la molécule `[\"Glycine\", \"Proline\", \"Arginine\"]` doit retourner `True`."
   ]
  },
  {
   "cell_type": "code",
   "execution_count": 13,
   "id": "61c13d64",
   "metadata": {},
   "outputs": [
    {
     "data": {
      "text/plain": [
       "True"
      ]
     },
     "execution_count": 13,
     "metadata": {},
     "output_type": "execute_result"
    }
   ],
   "source": [
    "def adn_encode_molecule(adn, dico, molecule):\n",
    "    verif = arn(adn)\n",
    "    if verif == None : \n",
    "        return False\n",
    "    triplés = arn_to_codons(verif)\n",
    "    \n",
    "    stop = codons_stop(dico)\n",
    "    i = 0\n",
    "    \n",
    "    while i < len(triplés):\n",
    "        j = 0\n",
    "        k = 0\n",
    "        while j < len(stop):\n",
    "            if stop[j] in triplés[i]:\n",
    "                triplés.remove(stop[j])\n",
    "            j = j + 1\n",
    "        \n",
    "        codons = codons_to_aa(triplés, dico)\n",
    "        \n",
    "        while k < len(molecule):\n",
    "            if molecule[k] in codons[i]:\n",
    "                return True\n",
    "            k = k + 1\n",
    "        i = i + 1\n",
    "        \n",
    "    return False\n",
    "    \n",
    "    \n",
    "adn_encode_molecule('ATAAGCATC',load_dico_codons_aa(\"data/codons_aa.json\"),['Methionine', 'Serine', 'Isoleucine'])"
   ]
  },
  {
   "cell_type": "code",
   "execution_count": 15,
   "id": "f8f5221c",
   "metadata": {},
   "outputs": [
    {
     "name": "stdout",
     "output_type": "stream",
     "text": [
      "La fonction adn_encore_molecule marche niquel !\n"
     ]
    }
   ],
   "source": [
    "def test_adn_encore_molecule():\n",
    "    assert adn_encode_molecule(\"CGTTTTATGCGTATGAATTAAATGGGGCCCCGTTAGGGG\", load_dico_codons_aa(\"data/codons_aa.json\"), [\"Glycine\", \"Proline\", \"Arginine\"]) == True\n",
    "    assert adn_encode_molecule(\"\", load_dico_codons_aa(\"data/codons_aa.json\"), [\"Glycine\", \"Proline\", \"Arginine\"]) == False\n",
    "    assert adn_encode_molecule(\"GG\", load_dico_codons_aa(\"data/codons_aa.json\"), [\"Glycine\", \"Proline\", \"Arginine\"]) == False\n",
    "    assert adn_encode_molecule(\"CGGG\", load_dico_codons_aa(\"data/codons_aa.json\"), [\"Glycine\", \"Proline\"]) == False\n",
    "    assert adn_encode_molecule(\"CGTTTTATGCGTATGAATTAAATGGGGCCCCGTTAGGGG\", load_dico_codons_aa(\"data/codons_aa.json\"), []) == False\n",
    "    assert adn_encode_molecule(\"CGTTTTATG\", load_dico_codons_aa(\"data/codons_aa.json\"), [\"Arginine\"]) == True\n",
    "    print(\"La fonction adn_encore_molecule marche niquel !\")\n",
    "    \n",
    "test_adn_encore_molecule()"
   ]
  },
  {
   "cell_type": "markdown",
   "id": "f0e2fbfb",
   "metadata": {},
   "source": [
    "## Développement et rendu\n",
    "\n",
    "La SAÉ devra être faite en binôme. Les fonctions doivent être implémentées dans un module appelé `biology` et les tests unitaires des fonctions dans le module `test_biology`. L'utilisation des fonctions du module devra être présentée dans un notebook appelé `using_biology.ipynb`. Le répertoire du projet devra également contenir un fichier `etudiants.txt` contenant les codes INE de deux étudiants du projet (un par ligne).\n",
    "Le répertoire devra aussi contenir un sous-répertoire `data` contenant le fichier `codons_aa.json`.\n",
    "\n",
    "Un squelette de rendu de projet se trouve sur le dépôt gitlab de l'université.\n",
    "\n",
    "\n",
    "## Évaluation\n",
    "\n",
    "La SAÉ sera notée de la manière suivante :\n",
    "- Questions relatives à la SAÉ dans les contrôles : 12 points\n",
    "- Vérification automatique du code via des tests unitaires : 3 points\n",
    "- Qualité du code : 2 points\n",
    "- Qualité des tests unitaires : 2 points\n",
    "- Notebook de présentation : 1 point\n"
   ]
  }
 ],
 "metadata": {
  "kernelspec": {
   "display_name": "Python 3",
   "language": "python",
   "name": "python3"
  },
  "language_info": {
   "codemirror_mode": {
    "name": "ipython",
    "version": 3
   },
   "file_extension": ".py",
   "mimetype": "text/x-python",
   "name": "python",
   "nbconvert_exporter": "python",
   "pygments_lexer": "ipython3",
   "version": "3.8.8"
  }
 },
 "nbformat": 4,
 "nbformat_minor": 5
}
